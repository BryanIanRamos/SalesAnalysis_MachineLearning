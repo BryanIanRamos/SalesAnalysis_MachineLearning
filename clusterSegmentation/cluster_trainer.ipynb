{
 "cells": [
  {
   "cell_type": "markdown",
   "metadata": {},
   "source": [
    "### Cell 1: Import necessary libraries"
   ]
  },
  {
   "cell_type": "code",
   "execution_count": 2,
   "metadata": {},
   "outputs": [],
   "source": [
    "import pandas as pd\n",
    "import numpy as np\n",
    "from sklearn.cluster import KMeans\n",
    "import matplotlib.pyplot as plt\n",
    "from sklearn.preprocessing import StandardScaler\n",
    "import joblib\n",
    "from sklearn.metrics import silhouette_score, davies_bouldin_score, calinski_harabasz_score\n",
    "from sqlalchemy import create_engine\n",
    "from dotenv import load_dotenv\n",
    "import os\n"
   ]
  },
  {
   "cell_type": "markdown",
   "metadata": {},
   "source": [
    "### Cell 2: Load environment variables and set up database connection"
   ]
  },
  {
   "cell_type": "code",
   "execution_count": 3,
   "metadata": {},
   "outputs": [],
   "source": [
    "# Load environment variables from .env file\n",
    "load_dotenv()\n",
    "\n",
    "# Set up the database connection using environment variables\n",
    "db_url = f\"postgresql://{os.getenv('DB_USER')}:{os.getenv('DB_PASSWORD')}@{os.getenv('DB_HOST')}:{os.getenv('DB_PORT')}/{os.getenv('DB_NAME')}\"\n",
    "engine = create_engine(db_url)\n"
   ]
  },
  {
   "cell_type": "markdown",
   "metadata": {},
   "source": [
    "### Cell 3: Fetch data from the database"
   ]
  },
  {
   "cell_type": "code",
   "execution_count": 5,
   "metadata": {},
   "outputs": [
    {
     "data": {
      "text/html": [
       "<div>\n",
       "<style scoped>\n",
       "    .dataframe tbody tr th:only-of-type {\n",
       "        vertical-align: middle;\n",
       "    }\n",
       "\n",
       "    .dataframe tbody tr th {\n",
       "        vertical-align: top;\n",
       "    }\n",
       "\n",
       "    .dataframe thead th {\n",
       "        text-align: right;\n",
       "    }\n",
       "</style>\n",
       "<table border=\"1\" class=\"dataframe\">\n",
       "  <thead>\n",
       "    <tr style=\"text-align: right;\">\n",
       "      <th></th>\n",
       "      <th>customerid</th>\n",
       "      <th>total_sales</th>\n",
       "      <th>order_frequency</th>\n",
       "    </tr>\n",
       "  </thead>\n",
       "  <tbody>\n",
       "    <tr>\n",
       "      <th>0</th>\n",
       "      <td>16592</td>\n",
       "      <td>3584.33</td>\n",
       "      <td>200</td>\n",
       "    </tr>\n",
       "    <tr>\n",
       "      <th>1</th>\n",
       "      <td>13527</td>\n",
       "      <td>1828.50</td>\n",
       "      <td>188</td>\n",
       "    </tr>\n",
       "    <tr>\n",
       "      <th>2</th>\n",
       "      <td>14173</td>\n",
       "      <td>222.34</td>\n",
       "      <td>23</td>\n",
       "    </tr>\n",
       "    <tr>\n",
       "      <th>3</th>\n",
       "      <td>12502</td>\n",
       "      <td>1511.32</td>\n",
       "      <td>91</td>\n",
       "    </tr>\n",
       "    <tr>\n",
       "      <th>4</th>\n",
       "      <td>14067</td>\n",
       "      <td>275.04</td>\n",
       "      <td>45</td>\n",
       "    </tr>\n",
       "  </tbody>\n",
       "</table>\n",
       "</div>"
      ],
      "text/plain": [
       "   customerid  total_sales  order_frequency\n",
       "0       16592      3584.33              200\n",
       "1       13527      1828.50              188\n",
       "2       14173       222.34               23\n",
       "3       12502      1511.32               91\n",
       "4       14067       275.04               45"
      ]
     },
     "execution_count": 5,
     "metadata": {},
     "output_type": "execute_result"
    }
   ],
   "source": [
    "# SQL Query to fetch the required data\n",
    "query = \"\"\"\n",
    "SELECT\n",
    "    c.customerid,\n",
    "    SUM(s.totalprice) AS total_sales,\n",
    "    COUNT(s.salesid) AS order_frequency\n",
    "FROM\n",
    "    customer c\n",
    "JOIN\n",
    "    sales s ON c.customerid = s.customerid\n",
    "GROUP BY\n",
    "    c.customerid\n",
    "\"\"\"\n",
    "\n",
    "# Load data from the database\n",
    "df = pd.read_sql(query, engine)\n",
    "\n",
    "# Inspect the first few rows of the data\n",
    "df.head()\n"
   ]
  },
  {
   "cell_type": "markdown",
   "metadata": {},
   "source": [
    "### Cell 4: Preprocess the data (normalize features)"
   ]
  },
  {
   "cell_type": "code",
   "execution_count": 6,
   "metadata": {},
   "outputs": [],
   "source": [
    "# Preprocess the data: Normalize the features\n",
    "scaler = StandardScaler()\n",
    "df_scaled = scaler.fit_transform(df[['total_sales', 'order_frequency']])\n"
   ]
  },
  {
   "cell_type": "markdown",
   "metadata": {},
   "source": [
    "### Cell 5: Apply K-Means clustering"
   ]
  },
  {
   "cell_type": "code",
   "execution_count": 7,
   "metadata": {},
   "outputs": [
    {
     "name": "stdout",
     "output_type": "stream",
     "text": [
      "Cluster Centers (total_sales, order_frequency):\n",
      "[[-0.16204836 -0.14299831]\n",
      " [19.16300539 24.74623533]\n",
      " [ 1.83081412  1.5117996 ]]\n"
     ]
    }
   ],
   "source": [
    "# Apply K-Means clustering\n",
    "kmeans = KMeans(n_clusters=3, random_state=42)\n",
    "df['Cluster'] = kmeans.fit_predict(df_scaled)\n",
    "\n",
    "# Inspect the cluster centers to understand their meaning\n",
    "cluster_centers = kmeans.cluster_centers_\n",
    "print(\"Cluster Centers (total_sales, order_frequency):\")\n",
    "print(cluster_centers)\n"
   ]
  },
  {
   "cell_type": "markdown",
   "metadata": {},
   "source": [
    "### Cell 6: Assign meaningful labels to clusters"
   ]
  },
  {
   "cell_type": "code",
   "execution_count": 8,
   "metadata": {},
   "outputs": [
    {
     "data": {
      "text/html": [
       "<div>\n",
       "<style scoped>\n",
       "    .dataframe tbody tr th:only-of-type {\n",
       "        vertical-align: middle;\n",
       "    }\n",
       "\n",
       "    .dataframe tbody tr th {\n",
       "        vertical-align: top;\n",
       "    }\n",
       "\n",
       "    .dataframe thead th {\n",
       "        text-align: right;\n",
       "    }\n",
       "</style>\n",
       "<table border=\"1\" class=\"dataframe\">\n",
       "  <thead>\n",
       "    <tr style=\"text-align: right;\">\n",
       "      <th></th>\n",
       "      <th>customerid</th>\n",
       "      <th>total_sales</th>\n",
       "      <th>order_frequency</th>\n",
       "      <th>Cluster</th>\n",
       "      <th>Cluster Label</th>\n",
       "    </tr>\n",
       "  </thead>\n",
       "  <tbody>\n",
       "    <tr>\n",
       "      <th>0</th>\n",
       "      <td>16592</td>\n",
       "      <td>3584.33</td>\n",
       "      <td>200</td>\n",
       "      <td>2</td>\n",
       "      <td>Moderate-Value Customers</td>\n",
       "    </tr>\n",
       "    <tr>\n",
       "      <th>1</th>\n",
       "      <td>13527</td>\n",
       "      <td>1828.50</td>\n",
       "      <td>188</td>\n",
       "      <td>0</td>\n",
       "      <td>Low-Value Customers</td>\n",
       "    </tr>\n",
       "    <tr>\n",
       "      <th>2</th>\n",
       "      <td>14173</td>\n",
       "      <td>222.34</td>\n",
       "      <td>23</td>\n",
       "      <td>0</td>\n",
       "      <td>Low-Value Customers</td>\n",
       "    </tr>\n",
       "    <tr>\n",
       "      <th>3</th>\n",
       "      <td>12502</td>\n",
       "      <td>1511.32</td>\n",
       "      <td>91</td>\n",
       "      <td>0</td>\n",
       "      <td>Low-Value Customers</td>\n",
       "    </tr>\n",
       "    <tr>\n",
       "      <th>4</th>\n",
       "      <td>14067</td>\n",
       "      <td>275.04</td>\n",
       "      <td>45</td>\n",
       "      <td>0</td>\n",
       "      <td>Low-Value Customers</td>\n",
       "    </tr>\n",
       "  </tbody>\n",
       "</table>\n",
       "</div>"
      ],
      "text/plain": [
       "   customerid  total_sales  order_frequency  Cluster             Cluster Label\n",
       "0       16592      3584.33              200        2  Moderate-Value Customers\n",
       "1       13527      1828.50              188        0       Low-Value Customers\n",
       "2       14173       222.34               23        0       Low-Value Customers\n",
       "3       12502      1511.32               91        0       Low-Value Customers\n",
       "4       14067       275.04               45        0       Low-Value Customers"
      ]
     },
     "execution_count": 8,
     "metadata": {},
     "output_type": "execute_result"
    }
   ],
   "source": [
    "# Assign meaning to the clusters based on the cluster centers\n",
    "# Here, we assume:\n",
    "# Cluster 0: High-Value Customers (higher total_sales and order_frequency)\n",
    "# Cluster 1: Low-Value Customers (lower total_sales and order_frequency)\n",
    "# Cluster 2: Moderate-Value Customers (moderate total_sales and order_frequency)\n",
    "\n",
    "# Check the cluster centers and assign meaningful labels\n",
    "if cluster_centers[0][0] > cluster_centers[1][0]:  # You can adjust the logic as needed\n",
    "    cluster_labels = {\n",
    "        0: 'High-Value Customers',\n",
    "        1: 'Low-Value Customers',\n",
    "        2: 'Moderate-Value Customers'\n",
    "    }\n",
    "else:\n",
    "    cluster_labels = {\n",
    "        0: 'Low-Value Customers',\n",
    "        1: 'High-Value Customers',\n",
    "        2: 'Moderate-Value Customers'\n",
    "    }\n",
    "\n",
    "# Add the cluster label to the customer data for better interpretation\n",
    "df['Cluster Label'] = df['Cluster'].map(cluster_labels)\n",
    "\n",
    "# Display the updated dataframe with cluster labels\n",
    "df.head()\n"
   ]
  },
  {
   "cell_type": "markdown",
   "metadata": {},
   "source": [
    "### Cell 7: Visualize the clustering result"
   ]
  },
  {
   "cell_type": "code",
   "execution_count": 9,
   "metadata": {},
   "outputs": [
    {
     "data": {
      "image/png": "[encoded data removed]",
      "text/plain": [
       "<Figure size 640x480 with 1 Axes>"
      ]
     },
     "metadata": {},
     "output_type": "display_data"
    }
   ],
   "source": [
    "# Visualize the clustering result with color labels\n",
    "scatter = plt.scatter(df['total_sales'], df['order_frequency'], \n",
    "                      c=df['Cluster'], cmap='viridis')\n",
    "\n",
    "# Create a custom legend to show which color corresponds to which cluster\n",
    "handles, _ = scatter.legend_elements()\n",
    "legend_labels = [cluster_labels[i] for i in range(3)]\n",
    "plt.legend(handles, legend_labels, title=\"Customer Segments\")\n",
    "\n",
    "# Label the axes and title\n",
    "plt.xlabel('Total Sales')\n",
    "plt.ylabel('Order Frequency')\n",
    "plt.title('Customer Segmentation by K-Means Clustering')\n",
    "plt.show()\n"
   ]
  },
  {
   "cell_type": "markdown",
   "metadata": {},
   "source": [
    "### Cell 8: Save the K-Means model and scaler"
   ]
  },
  {
   "cell_type": "code",
   "execution_count": 10,
   "metadata": {},
   "outputs": [
    {
     "data": {
      "text/plain": [
       "['scaler.pkl']"
      ]
     },
     "execution_count": 10,
     "metadata": {},
     "output_type": "execute_result"
    }
   ],
   "source": [
    "# Save the K-Means model and scaler\n",
    "joblib.dump(kmeans, 'customer_segmentation_model.pkl')\n",
    "joblib.dump(scaler, 'scaler.pkl')  # Save the scaler as well\n"
   ]
  },
  {
   "cell_type": "markdown",
   "metadata": {},
   "source": [
    "### Cell 9: Evaluate clustering performance"
   ]
  },
  {
   "cell_type": "code",
   "execution_count": 13,
   "metadata": {},
   "outputs": [
    {
     "name": "stdout",
     "output_type": "stream",
     "text": [
      "Evaluating clustering performance...\n",
      "\n",
      "Silhouette Score: 0.7840\n",
      "Davies-Bouldin Index: 0.5985\n",
      "Calinski-Harabasz Index: 4710.2336\n"
     ]
    }
   ],
   "source": [
    "print(\"Evaluating clustering performance...\")\n",
    "\n",
    "silhouette_avg = silhouette_score(df_scaled, df['Cluster'])\n",
    "print(f'\\nSilhouette Score: {silhouette_avg:.4f}')\n",
    "\n",
    "# Calculate Davies-Bouldin Index\n",
    "davies_bouldin = davies_bouldin_score(df_scaled, df['Cluster'])\n",
    "print(f'Davies-Bouldin Index: {davies_bouldin:.4f}')\n",
    "\n",
    "# Calculate Calinski-Harabasz Index\n",
    "calinski_harabasz = calinski_harabasz_score(df_scaled, df['Cluster'])\n",
    "print(f'Calinski-Harabasz Index: {calinski_harabasz:.4f}')\n"
   ]
  }
 ],
 "metadata": {
  "kernelspec": {
   "display_name": "Python 3",
   "language": "python",
   "name": "python3"
  },
  "language_info": {
   "codemirror_mode": {
    "name": "ipython",
    "version": 3
   },
   "file_extension": ".py",
   "mimetype": "text/x-python",
   "name": "python",
   "nbconvert_exporter": "python",
   "pygments_lexer": "ipython3",
   "version": "3.10.11"
  }
 },
 "nbformat": 4,
 "nbformat_minor": 2
}
